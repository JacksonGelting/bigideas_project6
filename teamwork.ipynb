{
 "cells": [
  {
   "cell_type": "code",
   "execution_count": 2,
   "metadata": {},
   "outputs": [
    {
     "name": "stdin",
     "output_type": "stream",
     "text": [
      "input 1 for a complement, 2 for an insult: 2\n"
     ]
    }
   ],
   "source": [
    "#TEST\n",
    "name = input(\"Enter your name:\")\n",
    "num = input(\"input 1 for a complement, 2 for an insult:\")\n",
    "if (int(num) == 1):\n",
    "    print(name + \", you are cool!\")\n",
    "else:\n",
    "    print(name + \", you are goofy!\")"
   ]
  },
  {
   "cell_type": "code",
   "execution_count": null,
   "metadata": {},
   "outputs": [],
   "source": []
  }
 ],
 "metadata": {
  "kernelspec": {
   "display_name": "Python 3",
   "language": "python",
   "name": "python3"
  },
  "language_info": {
   "codemirror_mode": {
    "name": "ipython",
    "version": 3
   },
   "file_extension": ".py",
   "mimetype": "text/x-python",
   "name": "python",
   "nbconvert_exporter": "python",
   "pygments_lexer": "ipython3",
   "version": "3.8.3"
  }
 },
 "nbformat": 4,
 "nbformat_minor": 4
}
